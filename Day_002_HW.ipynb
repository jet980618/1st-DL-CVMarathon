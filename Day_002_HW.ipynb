{
 "cells": [
  {
   "cell_type": "code",
   "execution_count": null,
   "metadata": {},
   "outputs": [],
   "source": [
    "# 請找出一個你認為機器學習可以發光發熱的領域並闡述原因?\n",
    "\n",
    "ANS:\n",
    "    我認為可以針對棒球裡面投手投球策略進行分析，目前職棒環境中可以收集許多比賽過程的數據，進而可以收集打者平時擊球熱點、攻擊球種、落球位置、飛行軌跡、擊球結果、\n",
    "\t好壞球數、風速、濕度、光線等相關因子，綜合分析出投球球種會製造出的攻擊落點，在類似的體育競賽中機器學習應該可以扮演出更多智慧型決策分析的角色，進行提升比賽\n",
    "\t的成績\n",
    "\t"
   ]
  }
 ],
 "metadata": {
  "kernelspec": {
   "display_name": "Python 3",
   "language": "python",
   "name": "python3"
  },
  "language_info": {
   "codemirror_mode": {
    "name": "ipython",
    "version": 3
   },
   "file_extension": ".py",
   "mimetype": "text/x-python",
   "name": "python",
   "nbconvert_exporter": "python",
   "pygments_lexer": "ipython3",
   "version": "3.7.4"
  }
 },
 "nbformat": 4,
 "nbformat_minor": 2
}
